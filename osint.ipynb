{
  "nbformat": 4,
  "nbformat_minor": 0,
  "metadata": {
    "colab": {
      "name": "osint.ipynb",
      "provenance": [],
      "collapsed_sections": [],
      "include_colab_link": true
    },
    "kernelspec": {
      "name": "python3",
      "display_name": "Python 3"
    },
    "accelerator": "GPU"
  },
  "cells": [
    {
      "cell_type": "markdown",
      "metadata": {
        "id": "view-in-github",
        "colab_type": "text"
      },
      "source": [
        "<a href=\"https://colab.research.google.com/github/black-falc0n/osintsetup/blob/main/osint.ipynb\" target=\"_parent\"><img src=\"https://colab.research.google.com/assets/colab-badge.svg\" alt=\"Open In Colab\"/></a>"
      ]
    },
    {
      "cell_type": "code",
      "metadata": {
        "id": "vp4LSKizX-8E",
        "colab": {
          "base_uri": "https://localhost:8080/"
        },
        "outputId": "8fb2781d-6482-45d8-da42-e6357a539628"
      },
      "source": [
        "from requests import get\n",
        "ip = get('https://api.ipify.org').text\n",
        "print(f'My public IP address is: {ip}')\n",
        "\n",
        "#Wordlists (see weakpass.com to download them)\n",
        "wordlists_dir = \"wordlists\"\n",
        "\n",
        "#---------------------------\n"
      ],
      "execution_count": 3,
      "outputs": [
        {
          "output_type": "stream",
          "name": "stdout",
          "text": [
            "My public IP address is: 104.198.18.190\n"
          ]
        }
      ]
    },
    {
      "cell_type": "code",
      "metadata": {
        "id": "bG3hglwpZCB_"
      },
      "source": [
        "#Wordlists\n",
        "import os\n",
        "\n",
        "os.system(\"wordlists_dir={}\".format(wordlists_dir))\n",
        "!mkdir ./$wordlists_dir\n",
        "if rockyou:\n",
        "    !printf \"[+] Downloading the Rockyou wordlist...\\n\"\n",
        "    !cd $wordlists_dir && wget https://download.weakpass.com/wordlists/90/rockyou.txt.gz\n",
        "    !printf \"[+] Wordlist downloaded !\\n[+] Extraction...\\n\"\n",
        "    !cd $wordlists_dir && gunzip rockyou.txt.gz\n",
        "    !printf \"[+] Finished !\\n[+] Location : $(pwd)/$wordlists_dir/$(ls wordlists | grep rockyou)\"\n",
        "\n",
        "if hashesorg2019:\n",
        "    !printf \"[+] Downloading the HashesOrg2019 wordlist...\\n\"\n",
        "    !cd $wordlists_dir && wget https://download.weakpass.com/wordlists/1851/hashesorg2019.gz\n",
        "    !printf \"[+] Wordlist downloaded !\\n[+] Extraction...\\n\"\n",
        "    !cd $wordlists_dir && gunzip hashesorg2019.gz\n",
        "    !printf \"[+] Finished !\\n[+] Location : $(pwd)/$wordlists_dir/$(ls wordlists | grep hashesorg2019)\""
      ],
      "execution_count": null,
      "outputs": []
    },
    {
      "cell_type": "code",
      "metadata": {
        "id": "lJ4ftp1ua3e9",
        "colab": {
          "base_uri": "https://localhost:8080/"
        },
        "outputId": "18ced382-6730-4d2a-c639-1f1777005379"
      },
      "source": [
        "#Install \n",
        "# print(\"Installing Holehe (Instagram)...\")\n",
        "#!pip3 install holehe\n",
        "\n",
        "# print(\"Installing Sherlock...\")\n",
        "# !git clone https://github.com/sherlock-project/sherlock.git\n",
        "# !cd sherlock\n",
        "# !sudo python3 -m pip install -r sherlock/requirements.txt\n",
        "# print(\"Installing TheHarvester...\")\n",
        "# !git clone https://github.com/laramies/theHarvester.git \n",
        "# !cd theHarvester\n",
        "# !sudo python3 -m pip install -r theHarvester/requirements/base.txt\n",
        "# print(\"Installing XeuleDoc...\")\n",
        "# !sudo -H python3 -m pip install xeuledoc\n",
        "#--------------------------------------------------\n",
        "\n"
      ],
      "execution_count": 4,
      "outputs": [
        {
          "output_type": "stream",
          "name": "stdout",
          "text": [
            "Installing XeuleDoc...\n",
            "Collecting xeuledoc\n",
            "  Downloading xeuledoc-2.1-py3-none-any.whl (15 kB)\n",
            "Collecting httpx\n",
            "  Downloading httpx-0.21.1-py3-none-any.whl (83 kB)\n",
            "\u001b[K     |████████████████████████████████| 83 kB 1.4 MB/s \n",
            "\u001b[?25hCollecting httpcore<0.15.0,>=0.14.0\n",
            "  Downloading httpcore-0.14.3-py3-none-any.whl (56 kB)\n",
            "\u001b[K     |████████████████████████████████| 56 kB 4.1 MB/s \n",
            "\u001b[?25hRequirement already satisfied: sniffio in /usr/local/lib/python3.7/dist-packages (from httpx->xeuledoc) (1.2.0)\n",
            "Requirement already satisfied: charset-normalizer in /usr/local/lib/python3.7/dist-packages (from httpx->xeuledoc) (2.0.8)\n",
            "Collecting rfc3986[idna2008]<2,>=1.3\n",
            "  Downloading rfc3986-1.5.0-py2.py3-none-any.whl (31 kB)\n",
            "Requirement already satisfied: certifi in /usr/local/lib/python3.7/dist-packages (from httpx->xeuledoc) (2021.10.8)\n",
            "Requirement already satisfied: h11<0.13,>=0.11 in /usr/local/lib/python3.7/dist-packages (from httpcore<0.15.0,>=0.14.0->httpx->xeuledoc) (0.12.0)\n",
            "Requirement already satisfied: anyio==3.* in /usr/local/lib/python3.7/dist-packages (from httpcore<0.15.0,>=0.14.0->httpx->xeuledoc) (3.4.0)\n",
            "Requirement already satisfied: typing-extensions in /usr/local/lib/python3.7/dist-packages (from anyio==3.*->httpcore<0.15.0,>=0.14.0->httpx->xeuledoc) (3.10.0.2)\n",
            "Requirement already satisfied: idna>=2.8 in /usr/local/lib/python3.7/dist-packages (from anyio==3.*->httpcore<0.15.0,>=0.14.0->httpx->xeuledoc) (2.10)\n",
            "Installing collected packages: rfc3986, httpcore, httpx, xeuledoc\n",
            "Successfully installed httpcore-0.14.3 httpx-0.21.1 rfc3986-1.5.0 xeuledoc-2.1\n"
          ]
        }
      ]
    },
    {
      "cell_type": "code",
      "metadata": {
        "id": "erA610RJM1GK"
      },
      "source": [
        "#Setting up shells\n",
        "from termcolor import colored\n",
        "import os\n",
        "\n",
        "!/bin/bash\n",
        "\n",
        "!git clone https://github.com/sherlock-project/sherlock.git\n",
        "!cd sherlock\n",
        "!python3 -m pip install -r sherlock/requirements.txt\n",
        "\n"
      ],
      "execution_count": null,
      "outputs": []
    },
    {
      "cell_type": "code",
      "metadata": {
        "id": "7ucWO9luB4RG"
      },
      "source": [
        "# Put your code here :\n",
        "\n",
        "# \n",
        "#!holehe --only-used bob123@gmail.com\n",
        "# !theHarvester.py -h -d cnn.com -b google,bing\n",
        "#!xeuledoc \n",
        "#!python3 sherlock/sherlock user123\n"
      ],
      "execution_count": null,
      "outputs": []
    }
  ]
}