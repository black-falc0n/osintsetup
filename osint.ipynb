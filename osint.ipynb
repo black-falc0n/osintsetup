{
  "nbformat": 4,
  "nbformat_minor": 0,
  "metadata": {
    "colab": {
      "name": "Penglab.ipynb",
      "provenance": [],
      "collapsed_sections": [],
      "include_colab_link": true
    },
    "kernelspec": {
      "name": "python3",
      "display_name": "Python 3"
    },
    "accelerator": "GPU"
  },
  "cells": [
    {
      "cell_type": "markdown",
      "metadata": {
        "id": "view-in-github",
        "colab_type": "text"
      },
      "source": [
        "<a href=\"https://colab.research.google.com/github/black-falc0n/osintsetup/blob/main/osint.ipynb\" target=\"_parent\"><img src=\"https://colab.research.google.com/assets/colab-badge.svg\" alt=\"Open In Colab\"/></a>"
      ]
    },
    {
      "cell_type": "code",
      "metadata": {
        "id": "vp4LSKizX-8E"
      },
      "source": [
        "\n",
        "\n",
        "\n",
        "#Wordlists (see weakpass.com to download them)\n",
        "wordlists_dir = \"wordlists\"\n",
        "\n",
        "#---------------------------\n"
      ],
      "execution_count": null,
      "outputs": []
    },
    {
      "cell_type": "code",
      "metadata": {
        "id": "bG3hglwpZCB_"
      },
      "source": [
        "#Wordlists\n",
        "import os\n",
        "\n",
        "os.system(\"wordlists_dir={}\".format(wordlists_dir))\n",
        "!mkdir ./$wordlists_dir\n",
        "if rockyou:\n",
        "    !printf \"[+] Downloading the Rockyou wordlist...\\n\"\n",
        "    !cd $wordlists_dir && wget https://download.weakpass.com/wordlists/90/rockyou.txt.gz\n",
        "    !printf \"[+] Wordlist downloaded !\\n[+] Extraction...\\n\"\n",
        "    !cd $wordlists_dir && gunzip rockyou.txt.gz\n",
        "    !printf \"[+] Finished !\\n[+] Location : $(pwd)/$wordlists_dir/$(ls wordlists | grep rockyou)\"\n",
        "\n",
        "if hashesorg2019:\n",
        "    !printf \"[+] Downloading the HashesOrg2019 wordlist...\\n\"\n",
        "    !cd $wordlists_dir && wget https://download.weakpass.com/wordlists/1851/hashesorg2019.gz\n",
        "    !printf \"[+] Wordlist downloaded !\\n[+] Extraction...\\n\"\n",
        "    !cd $wordlists_dir && gunzip hashesorg2019.gz\n",
        "    !printf \"[+] Finished !\\n[+] Location : $(pwd)/$wordlists_dir/$(ls wordlists | grep hashesorg2019)\""
      ],
      "execution_count": null,
      "outputs": []
    },
    {
      "cell_type": "code",
      "metadata": {
        "id": "lJ4ftp1ua3e9",
        "colab": {
          "base_uri": "https://localhost:8080/"
        },
        "outputId": "ec27aded-1341-45dc-8039-41f90c563112"
      },
      "source": [
        "#Install \n",
        "# print(\"Installing Holehe (Instagram)...\")\n",
        "#!pip3 install holehe\n",
        "\n",
        "# print(\"Installing TheHarvester...\")\n",
        "# !pip3 install theHarvester\n",
        "# !pip install git+https://github.com/laramies/theHarvester.git \n",
        "# !cd theHarvester/requirements\n",
        "# print(\"Installing XeuleDoc...\")\n",
        "# !sudo -H python3 -m pip install xeuledoc\n",
        "print(\"Installing Sherlock...\")\n",
        "#!git clone https://github.com/sherlock-project/sherlock.git\n",
        "!cd sherlock\n",
        "!sudo python3 -m pip install -r sherlock/requirements.txt\n",
        "\n"
      ],
      "execution_count": 1,
      "outputs": [
        {
          "output_type": "stream",
          "name": "stdout",
          "text": [
            "Installing Sherlock...\n",
            "Requirement already satisfied: certifi>=2019.6.16 in /usr/local/lib/python3.7/dist-packages (from -r sherlock/requirements.txt (line 1)) (2021.10.8)\n",
            "Requirement already satisfied: colorama>=0.4.1 in /usr/local/lib/python3.7/dist-packages (from -r sherlock/requirements.txt (line 2)) (0.4.4)\n",
            "Requirement already satisfied: PySocks>=1.7.0 in /usr/local/lib/python3.7/dist-packages (from -r sherlock/requirements.txt (line 3)) (1.7.1)\n",
            "Requirement already satisfied: requests>=2.22.0 in /usr/local/lib/python3.7/dist-packages (from -r sherlock/requirements.txt (line 4)) (2.23.0)\n",
            "Requirement already satisfied: requests-futures>=1.0.0 in /usr/local/lib/python3.7/dist-packages (from -r sherlock/requirements.txt (line 5)) (1.0.0)\n",
            "Requirement already satisfied: stem>=1.8.0 in /usr/local/lib/python3.7/dist-packages (from -r sherlock/requirements.txt (line 6)) (1.8.0)\n",
            "Requirement already satisfied: torrequest>=0.1.0 in /usr/local/lib/python3.7/dist-packages (from -r sherlock/requirements.txt (line 7)) (0.1.0)\n",
            "Requirement already satisfied: idna<3,>=2.5 in /usr/local/lib/python3.7/dist-packages (from requests>=2.22.0->-r sherlock/requirements.txt (line 4)) (2.10)\n",
            "Requirement already satisfied: chardet<4,>=3.0.2 in /usr/local/lib/python3.7/dist-packages (from requests>=2.22.0->-r sherlock/requirements.txt (line 4)) (3.0.4)\n",
            "Requirement already satisfied: urllib3!=1.25.0,!=1.25.1,<1.26,>=1.21.1 in /usr/local/lib/python3.7/dist-packages (from requests>=2.22.0->-r sherlock/requirements.txt (line 4)) (1.24.3)\n"
          ]
        }
      ]
    },
    {
      "cell_type": "code",
      "source": [
        "!sudo -H python3 -m pip install -r requirements.txt -I"
      ],
      "metadata": {
        "colab": {
          "base_uri": "https://localhost:8080/"
        },
        "id": "yRlO8oCzUSOD",
        "outputId": "00dbcd1b-4654-4ae7-9e4e-597dc23f626c"
      },
      "execution_count": 55,
      "outputs": [
        {
          "output_type": "stream",
          "name": "stdout",
          "text": [
            "Processing /dlib-19.18.0-cp37-cp37m-linux_x86_64.whl\n",
            "\u001b[31mERROR: Could not install packages due to an OSError: [Errno 2] No such file or directory: '/dlib-19.18.0-cp37-cp37m-linux_x86_64.whl'\n",
            "\u001b[0m\n"
          ]
        }
      ]
    },
    {
      "cell_type": "code",
      "metadata": {
        "id": "erA610RJM1GK",
        "colab": {
          "base_uri": "https://localhost:8080/"
        },
        "outputId": "621e1ec4-17e0-4fd9-a563-50eb940d6565"
      },
      "source": [
        "#Setting up shells\n",
        "from termcolor import colored\n",
        "import os\n",
        "\n",
        "!/bin/bash\n",
        "\n",
        "!git clone https://github.com/sherlock-project/sherlock.git\n",
        "!cd sherlock\n",
        "!python3 -m pip install -r sherlock/requirements.txt\n",
        "\n"
      ],
      "execution_count": 7,
      "outputs": [
        {
          "output_type": "stream",
          "name": "stdout",
          "text": [
            "\n",
            "\u001b[01;34m/content\u001b[00m# \n",
            "\u001b[01;34m/content\u001b[00m# \n",
            "\u001b[01;34m/content\u001b[00m# exit\n",
            "fatal: destination path 'sherlock' already exists and is not an empty directory.\n",
            "Exception ignored in: <function _get_module_lock.<locals>.cb at 0x7fa00846e5f0>\n",
            "Traceback (most recent call last):\n",
            "  File \"<frozen importlib._bootstrap>\", line 183, in cb\n",
            "KeyboardInterrupt: \n",
            "Traceback (most recent call last):\n",
            "  File \"/usr/lib/python3.7/runpy.py\", line 193, in _run_module_as_main\n",
            "    \"__main__\", mod_spec)\n",
            "  File \"/usr/lib/python3.7/runpy.py\", line 85, in _run_code\n",
            "    exec(code, run_globals)\n",
            "  File \"/usr/local/lib/python3.7/dist-packages/pip/__main__.py\", line 29, in <module>\n",
            "    from pip._internal.cli.main import main as _main\n",
            "  File \"/usr/local/lib/python3.7/dist-packages/pip/_internal/cli/main.py\", line 9, in <module>\n",
            "    from pip._internal.cli.autocompletion import autocomplete\n",
            "  File \"/usr/local/lib/python3.7/dist-packages/pip/_internal/cli/autocompletion.py\", line 10, in <module>\n",
            "    from pip._internal.cli.main_parser import create_main_parser\n",
            "  File \"/usr/local/lib/python3.7/dist-packages/pip/_internal/cli/main_parser.py\", line 8, in <module>\n",
            "    from pip._internal.cli import cmdoptions\n",
            "  File \"/usr/local/lib/python3.7/dist-packages/pip/_internal/cli/cmdoptions.py\", line 23, in <module>\n",
            "    from pip._internal.cli.parser import ConfigOptionParser\n",
            "  File \"/usr/local/lib/python3.7/dist-packages/pip/_internal/cli/parser.py\", line 12, in <module>\n",
            "    from pip._internal.configuration import Configuration, ConfigurationError\n",
            "  File \"/usr/local/lib/python3.7/dist-packages/pip/_internal/configuration.py\", line 21, in <module>\n",
            "    from pip._internal.exceptions import (\n",
            "  File \"/usr/local/lib/python3.7/dist-packages/pip/_internal/exceptions.py\", line 7, in <module>\n",
            "    from pip._vendor.pkg_resources import Distribution\n",
            "  File \"/usr/local/lib/python3.7/dist-packages/pip/_vendor/pkg_resources/__init__.py\", line 83, in <module>\n",
            "    __import__('pip._vendor.packaging.specifiers')\n",
            "  File \"/usr/local/lib/python3.7/dist-packages/pip/_vendor/packaging/specifiers.py\", line 12, in <module>\n",
            "    from ._compat import string_types, with_metaclass\n",
            "  File \"/usr/local/lib/python3.7/dist-packages/pip/_vendor/packaging/_compat.py\", line 4, in <module>\n",
            "    from __future__ import absolute_import, division, print_function\n",
            "KeyboardInterrupt\n"
          ]
        }
      ]
    },
    {
      "cell_type": "code",
      "metadata": {
        "colab": {
          "base_uri": "https://localhost:8080/"
        },
        "outputId": "c8735584-a3e1-44af-e319-145c79fb4019",
        "id": "1ZWDm-JfX02w"
      },
      "source": [
        "#Install \n",
        "# print(\"Installing Holehe (Instagram)...\")\n",
        "#!pip3 install holehe\n",
        "\n",
        "# print(\"Installing TheHarvester...\")\n",
        "# !pip3 install theHarvester\n",
        "# !pip install git+https://github.com/laramies/theHarvester.git \n",
        "# !cd theHarvester/requirements\n",
        "# print(\"Installing XeuleDoc...\")\n",
        "# !sudo -H python3 -m pip install xeuledoc\n",
        "print(\"Installing Sherlock...\")\n",
        "#!git clone https://github.com/sherlock-project/sherlock.git\n",
        "!cd sherlock\n",
        "!sudo python3 -m pip install -r requirements.txt\n",
        "\n"
      ],
      "execution_count": null,
      "outputs": [
        {
          "output_type": "stream",
          "name": "stdout",
          "text": [
            "Installing Sherlock...\n",
            "\u001b[31mERROR: Could not open requirements file: [Errno 2] No such file or directory: 'requirements.txt'\u001b[0m\n"
          ]
        }
      ]
    },
    {
      "cell_type": "code",
      "metadata": {
        "colab": {
          "base_uri": "https://localhost:8080/"
        },
        "outputId": "c8735584-a3e1-44af-e319-145c79fb4019",
        "id": "g1FBfEqsXz5F"
      },
      "source": [
        "\n",
        "#Install \n",
        "# print(\"Installing Holehe (Instagram)...\")\n",
        "#!pip3 install holehe\n",
        "\n",
        "# print(\"Installing TheHarvester...\")\n",
        "# !pip3 install theHarvester\n",
        "# !pip install git+https://github.com/laramies/theHarvester.git \n",
        "# !cd theHarvester/requirements\n",
        "# print(\"Installing XeuleDoc...\")\n",
        "# !sudo -H python3 -m pip install xeuledoc\n",
        "print(\"Installing Sherlock...\")\n",
        "#!git clone https://github.com/sherlock-project/sherlock.git\n",
        "!cd sherlock\n",
        "!sudo python3 -m pip install -r requirements.txt\n",
        "\n"
      ],
      "execution_count": null,
      "outputs": [
        {
          "output_type": "stream",
          "name": "stdout",
          "text": [
            "Installing Sherlock...\n",
            "\u001b[31mERROR: Could not open requirements file: [Errno 2] No such file or directory: 'requirements.txt'\u001b[0m\n"
          ]
        }
      ]
    },
    {
      "cell_type": "code",
      "metadata": {
        "id": "7ucWO9luB4RG",
        "colab": {
          "base_uri": "https://localhost:8080/"
        },
        "outputId": "8685cbd5-0e67-4314-f437-f73fb79d5094"
      },
      "source": [
        "# Put your code here :\n",
        "\n",
        "# \n",
        "#!holehe --only-used bob123@gmail.com\n",
        "# !theHarvester.py -h -d cnn.com -b google,bing\n",
        "#!xeuledoc \n",
        "#!python3 sherlock/sherlock user123\n"
      ],
      "execution_count": 60,
      "outputs": [
        {
          "output_type": "stream",
          "name": "stdout",
          "text": [
            "\u001b[1m\u001b[32m[\u001b[33m*\u001b[32m] Checking username\u001b[37m user123\u001b[32m on:\u001b[0m\n",
            "Traceback (most recent call last):\n",
            "\u001b[0m  File \"/usr/lib/python3.7/runpy.py\", line 193, in _run_module_as_main\n",
            "\u001b[0m    \u001b[0m\"__main__\", mod_spec)\u001b[0m\n",
            "\u001b[0m  File \"/usr/lib/python3.7/runpy.py\", line 85, in _run_code\n",
            "\u001b[0m    \u001b[0mexec(code, run_globals)\u001b[0m\n",
            "\u001b[0m  File \"sherlock/sherlock/__main__.py\", line 30, in <module>\n",
            "\u001b[0m    \u001b[0msherlock.main()\u001b[0m\n",
            "\u001b[0m  File \"sherlock/sherlock/sherlock.py\", line 654, in main\n",
            "\u001b[0m    \u001b[0mtimeout=args.timeout)\u001b[0m\n",
            "\u001b[0m  File \"sherlock/sherlock/sherlock.py\", line 339, in sherlock\n",
            "\u001b[0m    \u001b[0msocial_network=social_network)\u001b[0m\n",
            "\u001b[0m  File \"sherlock/sherlock/sherlock.py\", line 105, in get_response\n",
            "\u001b[0m    \u001b[0mresponse = request_future.result()\u001b[0m\n",
            "\u001b[0m  File \"/usr/lib/python3.7/concurrent/futures/_base.py\", line 430, in result\n",
            "\u001b[0m    \u001b[0mself._condition.wait(timeout)\u001b[0m\n",
            "\u001b[0m  File \"/usr/lib/python3.7/threading.py\", line 296, in wait\n",
            "\u001b[0m    \u001b[0mwaiter.acquire()\u001b[0m\n",
            "\u001b[0mKeyboardInterrupt\u001b[0m\u001b[0m\n",
            "^C\n"
          ]
        }
      ]
    }
  ]
}