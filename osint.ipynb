{
  "nbformat": 4,
  "nbformat_minor": 0,
  "metadata": {
    "colab": {
      "name": "Penglab.ipynb",
      "provenance": [],
      "collapsed_sections": [],
      "include_colab_link": true
    },
    "kernelspec": {
      "name": "python3",
      "display_name": "Python 3"
    },
    "accelerator": "GPU"
  },
  "cells": [
    {
      "cell_type": "markdown",
      "metadata": {
        "id": "view-in-github",
        "colab_type": "text"
      },
      "source": [
        "<a href=\"https://colab.research.google.com/github/black-falc0n/osintsetup/blob/main/osint.ipynb\" target=\"_parent\"><img src=\"https://colab.research.google.com/assets/colab-badge.svg\" alt=\"Open In Colab\"/></a>"
      ]
    },
    {
      "cell_type": "code",
      "metadata": {
        "id": "vp4LSKizX-8E"
      },
      "source": [
        "\n",
        "\n",
        "\n",
        "#Wordlists (see weakpass.com to download them)\n",
        "wordlists_dir = \"wordlists\"\n",
        "\n",
        "#---------------------------\n"
      ],
      "execution_count": null,
      "outputs": []
    },
    {
      "cell_type": "code",
      "metadata": {
        "id": "bG3hglwpZCB_"
      },
      "source": [
        "#Wordlists\n",
        "import os\n",
        "\n",
        "os.system(\"wordlists_dir={}\".format(wordlists_dir))\n",
        "!mkdir ./$wordlists_dir\n",
        "if rockyou:\n",
        "    !printf \"[+] Downloading the Rockyou wordlist...\\n\"\n",
        "    !cd $wordlists_dir && wget https://download.weakpass.com/wordlists/90/rockyou.txt.gz\n",
        "    !printf \"[+] Wordlist downloaded !\\n[+] Extraction...\\n\"\n",
        "    !cd $wordlists_dir && gunzip rockyou.txt.gz\n",
        "    !printf \"[+] Finished !\\n[+] Location : $(pwd)/$wordlists_dir/$(ls wordlists | grep rockyou)\"\n",
        "\n",
        "if hashesorg2019:\n",
        "    !printf \"[+] Downloading the HashesOrg2019 wordlist...\\n\"\n",
        "    !cd $wordlists_dir && wget https://download.weakpass.com/wordlists/1851/hashesorg2019.gz\n",
        "    !printf \"[+] Wordlist downloaded !\\n[+] Extraction...\\n\"\n",
        "    !cd $wordlists_dir && gunzip hashesorg2019.gz\n",
        "    !printf \"[+] Finished !\\n[+] Location : $(pwd)/$wordlists_dir/$(ls wordlists | grep hashesorg2019)\""
      ],
      "execution_count": null,
      "outputs": []
    },
    {
      "cell_type": "code",
      "metadata": {
        "id": "lJ4ftp1ua3e9",
        "outputId": "13377236-9321-4018-9177-0e8c05600682",
        "colab": {
          "base_uri": "https://localhost:8080/"
        }
      },
      "source": [
        "#Install \n",
        "# print(\"Installing Holehe (Instagram)...\")\n",
        "#!pip3 install holehe\n",
        "\n",
        "# print(\"Installing TheHarvester...\")\n",
        "# !pip3 install theHarvester\n",
        "# !pip install git+https://github.com/laramies/theHarvester.git \n",
        "# !cd theHarvester/requirements\n",
        "# print(\"Installing XeuleDoc...\")\n",
        "# !sudo -H python3 -m pip install xeuledoc\n",
        "print(\"Installing Sherlock...\")\n",
        "!git clone https://github.com/sherlock-project/sherlock.git\n",
        "!cd sherlock\n",
        "!python3 -m pip install -r requirements.txt\n",
        "\n"
      ],
      "execution_count": 61,
      "outputs": [
        {
          "output_type": "stream",
          "name": "stdout",
          "text": [
            "Installing Sherlock...\n",
            "fatal: destination path 'sherlock' already exists and is not an empty directory.\n",
            "Processing /dlib-19.18.0-cp37-cp37m-linux_x86_64.whl\n",
            "\u001b[31mERROR: Could not install packages due to an OSError: [Errno 2] No such file or directory: '/dlib-19.18.0-cp37-cp37m-linux_x86_64.whl'\n",
            "\u001b[0m\n"
          ]
        }
      ]
    },
    {
      "cell_type": "code",
      "source": [
        "!sudo -H python3 -m pip install -r requirements.txt -I"
      ],
      "metadata": {
        "id": "yRlO8oCzUSOD",
        "outputId": "00dbcd1b-4654-4ae7-9e4e-597dc23f626c",
        "colab": {
          "base_uri": "https://localhost:8080/"
        }
      },
      "execution_count": 55,
      "outputs": [
        {
          "output_type": "stream",
          "name": "stdout",
          "text": [
            "Processing /dlib-19.18.0-cp37-cp37m-linux_x86_64.whl\n",
            "\u001b[31mERROR: Could not install packages due to an OSError: [Errno 2] No such file or directory: '/dlib-19.18.0-cp37-cp37m-linux_x86_64.whl'\n",
            "\u001b[0m\n"
          ]
        }
      ]
    },
    {
      "cell_type": "code",
      "metadata": {
        "id": "erA610RJM1GK"
      },
      "source": [
        "#Setting up shells\n",
        "from termcolor import colored\n",
        "import os\n",
        "\n",
        "!/bin/bash\n",
        "\n",
        "!git clone https://github.com/sherlock-project/sherlock.git\n",
        "!cd sherlock\n",
        "!python3 -m pip install -r requirements.txt\n",
        "\n"
      ],
      "execution_count": null,
      "outputs": []
    },
    {
      "cell_type": "code",
      "metadata": {
        "id": "7ucWO9luB4RG",
        "outputId": "8685cbd5-0e67-4314-f437-f73fb79d5094",
        "colab": {
          "base_uri": "https://localhost:8080/"
        }
      },
      "source": [
        "# Put your code here :\n",
        "\n",
        "# \n",
        "#!holehe --only-used bob123@gmail.com\n",
        "# !theHarvester.py -h -d cnn.com -b google,bing\n",
        "#!xeuledoc \n",
        "#!python3 sherlock/sherlock user123\n"
      ],
      "execution_count": 60,
      "outputs": [
        {
          "output_type": "stream",
          "name": "stdout",
          "text": [
            "\u001b[1m\u001b[32m[\u001b[33m*\u001b[32m] Checking username\u001b[37m user123\u001b[32m on:\u001b[0m\n",
            "Traceback (most recent call last):\n",
            "\u001b[0m  File \"/usr/lib/python3.7/runpy.py\", line 193, in _run_module_as_main\n",
            "\u001b[0m    \u001b[0m\"__main__\", mod_spec)\u001b[0m\n",
            "\u001b[0m  File \"/usr/lib/python3.7/runpy.py\", line 85, in _run_code\n",
            "\u001b[0m    \u001b[0mexec(code, run_globals)\u001b[0m\n",
            "\u001b[0m  File \"sherlock/sherlock/__main__.py\", line 30, in <module>\n",
            "\u001b[0m    \u001b[0msherlock.main()\u001b[0m\n",
            "\u001b[0m  File \"sherlock/sherlock/sherlock.py\", line 654, in main\n",
            "\u001b[0m    \u001b[0mtimeout=args.timeout)\u001b[0m\n",
            "\u001b[0m  File \"sherlock/sherlock/sherlock.py\", line 339, in sherlock\n",
            "\u001b[0m    \u001b[0msocial_network=social_network)\u001b[0m\n",
            "\u001b[0m  File \"sherlock/sherlock/sherlock.py\", line 105, in get_response\n",
            "\u001b[0m    \u001b[0mresponse = request_future.result()\u001b[0m\n",
            "\u001b[0m  File \"/usr/lib/python3.7/concurrent/futures/_base.py\", line 430, in result\n",
            "\u001b[0m    \u001b[0mself._condition.wait(timeout)\u001b[0m\n",
            "\u001b[0m  File \"/usr/lib/python3.7/threading.py\", line 296, in wait\n",
            "\u001b[0m    \u001b[0mwaiter.acquire()\u001b[0m\n",
            "\u001b[0mKeyboardInterrupt\u001b[0m\u001b[0m\n",
            "^C\n"
          ]
        }
      ]
    }
  ]
}