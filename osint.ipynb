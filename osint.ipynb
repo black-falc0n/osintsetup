{
  "nbformat": 4,
  "nbformat_minor": 0,
  "metadata": {
    "colab": {
      "name": "osint.ipynb",
      "provenance": [],
      "collapsed_sections": [],
      "include_colab_link": true
    },
    "kernelspec": {
      "name": "python3",
      "display_name": "Python 3"
    },
    "accelerator": "GPU"
  },
  "cells": [
    {
      "cell_type": "markdown",
      "metadata": {
        "id": "view-in-github",
        "colab_type": "text"
      },
      "source": [
        "<a href=\"https://colab.research.google.com/github/black-falc0n/osintsetup/blob/main/osint.ipynb\" target=\"_parent\"><img src=\"https://colab.research.google.com/assets/colab-badge.svg\" alt=\"Open In Colab\"/></a>"
      ]
    },
    {
      "cell_type": "markdown",
      "source": [
        "##Find your Public IP Address"
      ],
      "metadata": {
        "id": "09ZQKcmdpb5T"
      }
    },
    {
      "cell_type": "code",
      "metadata": {
        "id": "vp4LSKizX-8E"
      },
      "source": [
        "from requests import get\n",
        "ip = get('https://api.ipify.org').text\n",
        "print(f'My public IP address is: {ip}')\n",
        "\n",
        "#Wordlists (see weakpass.com to download them)\n",
        "wordlists_dir = \"wordlists\"\n",
        "\n",
        "#---------------------------\n"
      ],
      "execution_count": null,
      "outputs": []
    },
    {
      "cell_type": "markdown",
      "source": [
        "# 1. Install Tools"
      ],
      "metadata": {
        "id": "r45DoPy1pJRx"
      }
    },
    {
      "cell_type": "code",
      "metadata": {
        "id": "lJ4ftp1ua3e9"
      },
      "source": [
        "#Install \n",
        "# print(\"Installing Holehe (Instagram)...\")\n",
        "# !pip3 install holehe\n",
        "# print(\"Installing Sherlock...\")\n",
        "# !git clone https://github.com/sherlock-project/sherlock.git\n",
        "# !cd sherlock\n",
        "# !sudo python3 -m pip install -r sherlock/requirements.txt\n",
        "# print(\"Installing TheHarvester...\")\n",
        "# !git clone https://github.com/laramies/theHarvester.git \n",
        "# !cd theHarvester\n",
        "# !sudo python3 -m pip install -r theHarvester/requirements/base.txt\n",
        "# print(\"Installing XeuleDoc...\")\n",
        "# !sudo -H python3 -m pip install xeuledoc\n",
        "# #--------------------------------------------------\n",
        "print(\"Installing WhatsMyName...\")\n",
        "!git clone https://github.com/WebBreacher/WhatsMyName.git\n",
        "!cd WhatsMyName\n",
        "!sudo -H python3 -m pip install -r WhatsMyName/requirements.txt -I\n",
        "# print(\"Installing Sublist3r...(for listing subdirectories of domains)\")\n",
        "# !git clone https://github.com/aboul3la/Sublist3r.git\n",
        "# !cd Sublist3r\n",
        "# !sudo -H python3 -m pip install -r Sublist3r/requirements.txt -I\n",
        "\n",
        "\n"
      ],
      "execution_count": null,
      "outputs": []
    },
    {
      "cell_type": "markdown",
      "source": [
        "# 2. Start Running Commands"
      ],
      "metadata": {
        "id": "oAxZp-8tpEtF"
      }
    },
    {
      "cell_type": "code",
      "metadata": {
        "id": "7ucWO9luB4RG",
        "colab": {
          "base_uri": "https://localhost:8080/"
        },
        "outputId": "af572c36-9cce-41a8-f649-a9c4437aa6d6"
      },
      "source": [
        "# Un-comment and put your code here :\n",
        "\n",
        "#!holehe --only-used bob123@gmail.com\n",
        "# !cd theHarvester\n",
        "# !theHarvester -d cnn.com -b google,bing\n",
        "# !xeuledoc \n",
        "# !python3 sherlock/sherlock user123\n",
        "#!python Sublist3r/sublist3r.py -v -d example.com\n",
        "\n",
        "#-----does not work-----\n",
        "# !python3 WhatsMyName/web_accounts_list_checker.py -u john123\n"
      ],
      "execution_count": 95,
      "outputs": [
        {
          "output_type": "stream",
          "name": "stdout",
          "text": [
            "fatal: destination path 'WhatsMyName' already exists and is not an empty directory.\n"
          ]
        }
      ]
    },
    {
      "cell_type": "markdown",
      "source": [
        "#Shell Access"
      ],
      "metadata": {
        "id": "Zb0q6qXopNKL"
      }
    },
    {
      "cell_type": "code",
      "metadata": {
        "id": "erA610RJM1GK"
      },
      "source": [
        "#Setting up shells\n",
        "from termcolor import colored\n",
        "import os\n",
        "\n",
        "!/bin/bash\n",
        "\n"
      ],
      "execution_count": null,
      "outputs": []
    },
    {
      "cell_type": "markdown",
      "source": [
        "## Optional - Download Wordlist"
      ],
      "metadata": {
        "id": "2VSYmWXjsDpJ"
      }
    },
    {
      "cell_type": "code",
      "metadata": {
        "id": "bG3hglwpZCB_"
      },
      "source": [
        "#Wordlists\n",
        "import os\n",
        "# Does not download\n",
        "# !printf \"[+] Downloading the RockYou2021 wordlist...\\n\"\n",
        "# !wget https://anonfiles.com/H5k6r902ud/rockyou2021.txt.7z_001\n",
        "# !wget https://anonfiles.com/pfd4ra0fu9/rockyou2021.txt.7z_002\n",
        "# !printf \"[+] Wordlist downloaded !\\n[+] Extraction...\\n\"\n",
        "# !7za e  rockyou2021.txt.7z.001\n"
      ],
      "execution_count": null,
      "outputs": []
    }
  ]
}