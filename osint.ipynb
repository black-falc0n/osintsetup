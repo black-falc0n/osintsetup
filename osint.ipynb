{
  "nbformat": 4,
  "nbformat_minor": 0,
  "metadata": {
    "colab": {
      "name": "osint.ipynb",
      "provenance": [],
      "collapsed_sections": [],
      "include_colab_link": true
    },
    "kernelspec": {
      "name": "python3",
      "display_name": "Python 3"
    },
    "accelerator": "GPU"
  },
  "cells": [
    {
      "cell_type": "markdown",
      "metadata": {
        "id": "view-in-github",
        "colab_type": "text"
      },
      "source": [
        "<a href=\"https://colab.research.google.com/github/black-falc0n/osintsetup/blob/main/osint.ipynb\" target=\"_parent\"><img src=\"https://colab.research.google.com/assets/colab-badge.svg\" alt=\"Open In Colab\"/></a>"
      ]
    },
    {
      "cell_type": "code",
      "metadata": {
        "id": "vp4LSKizX-8E",
        "colab": {
          "base_uri": "https://localhost:8080/"
        },
        "outputId": "8fb2781d-6482-45d8-da42-e6357a539628"
      },
      "source": [
        "from requests import get\n",
        "ip = get('https://api.ipify.org').text\n",
        "print(f'My public IP address is: {ip}')\n",
        "\n",
        "#Wordlists (see weakpass.com to download them)\n",
        "wordlists_dir = \"wordlists\"\n",
        "\n",
        "#---------------------------\n"
      ],
      "execution_count": 3,
      "outputs": [
        {
          "output_type": "stream",
          "name": "stdout",
          "text": [
            "My public IP address is: 104.198.18.190\n"
          ]
        }
      ]
    },
    {
      "cell_type": "code",
      "metadata": {
        "id": "bG3hglwpZCB_"
      },
      "source": [
        "#Wordlists\n",
        "import os\n",
        "\n",
        "os.system(\"wordlists_dir={}\".format(wordlists_dir))\n",
        "!mkdir ./$wordlists_dir\n",
        "if rockyou:\n",
        "    !printf \"[+] Downloading the Rockyou wordlist...\\n\"\n",
        "    !cd $wordlists_dir && wget https://download.weakpass.com/wordlists/90/rockyou.txt.gz\n",
        "    !printf \"[+] Wordlist downloaded !\\n[+] Extraction...\\n\"\n",
        "    !cd $wordlists_dir && gunzip rockyou.txt.gz\n",
        "    !printf \"[+] Finished !\\n[+] Location : $(pwd)/$wordlists_dir/$(ls wordlists | grep rockyou)\"\n",
        "\n",
        "if hashesorg2019:\n",
        "    !printf \"[+] Downloading the HashesOrg2019 wordlist...\\n\"\n",
        "    !cd $wordlists_dir && wget https://download.weakpass.com/wordlists/1851/hashesorg2019.gz\n",
        "    !printf \"[+] Wordlist downloaded !\\n[+] Extraction...\\n\"\n",
        "    !cd $wordlists_dir && gunzip hashesorg2019.gz\n",
        "    !printf \"[+] Finished !\\n[+] Location : $(pwd)/$wordlists_dir/$(ls wordlists | grep hashesorg2019)\""
      ],
      "execution_count": null,
      "outputs": []
    },
    {
      "cell_type": "code",
      "metadata": {
        "id": "lJ4ftp1ua3e9"
      },
      "source": [
        "#Install \n",
        "print(\"Installing Holehe (Instagram)...\")\n",
        "!pip3 install holehe\n",
        "print(\"Installing Sherlock...\")\n",
        "!git clone https://github.com/sherlock-project/sherlock.git\n",
        "!cd sherlock\n",
        "!sudo python3 -m pip install -r sherlock/requirements.txt\n",
        "print(\"Installing TheHarvester...\")\n",
        "!git clone https://github.com/laramies/theHarvester.git \n",
        "!cd theHarvester\n",
        "!sudo python3 -m pip install -r theHarvester/requirements/base.txt\n",
        "print(\"Installing XeuleDoc...\")\n",
        "!sudo -H python3 -m pip install xeuledoc\n",
        "#--------------------------------------------------\n",
        "print(\"Installing WhatsMyName...\")\n",
        "!git clone https://github.com/WebBreacher/WhatsMyName.git\n",
        "!cd WhatsMyName\n",
        "!sudo -H python3 -m pip install -r WhatsMyName/requirements.txt -I\n",
        "\n",
        "\n"
      ],
      "execution_count": null,
      "outputs": []
    },
    {
      "cell_type": "code",
      "metadata": {
        "id": "erA610RJM1GK"
      },
      "source": [
        "#Setting up shells\n",
        "from termcolor import colored\n",
        "import os\n",
        "\n",
        "!/bin/bash\n",
        "\n"
      ],
      "execution_count": null,
      "outputs": []
    },
    {
      "cell_type": "code",
      "metadata": {
        "id": "7ucWO9luB4RG",
        "colab": {
          "base_uri": "https://localhost:8080/"
        },
        "outputId": "2374dbd1-2fb8-4a4c-c5d5-d9885993f304"
      },
      "source": [
        "# Put your code here :\n",
        "\n",
        "#!holehe --only-used bob123@gmail.com\n",
        "# !cd theHarvester\n",
        "# !theHarvester -d cnn.com -b google,bing\n",
        "# !xeuledoc \n",
        "# !python3 sherlock/sherlock user123\n",
        "\n",
        "#-----does not work-----\n",
        "# !python3 WhatsMyName/web_accounts_list_checker -u maxim\n"
      ],
      "execution_count": 65,
      "outputs": [
        {
          "output_type": "stream",
          "name": "stdout",
          "text": [
            "python3: can't open file 'WhatsMyName/web_accounts_list_checker': [Errno 2] No such file or directory\n"
          ]
        }
      ]
    }
  ]
}